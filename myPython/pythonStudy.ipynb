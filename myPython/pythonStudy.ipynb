{
 "cells": [
  {
   "cell_type": "code",
   "execution_count": 1,
   "metadata": {},
   "outputs": [],
   "source": [
    "# -*- coding:utf-8 -*-\n",
    "import os\n",
    "import time\n",
    "import random\n",
    "import io"
   ]
  },
  {
   "cell_type": "code",
   "execution_count": 2,
   "metadata": {},
   "outputs": [],
   "source": [
    "def printContent():\n",
    "    content = u'北京欢迎你，为你开天辟地。'\n",
    "    while True:\n",
    "        # 清理屏幕上的输出\n",
    "        os.system('clear')\n",
    "        print(content)\n",
    "        # 休眠200ms\n",
    "        time.sleep(0.2)\n",
    "        content = content[1:] + content[0]\n",
    "\n",
    "# printContent()"
   ]
  },
  {
   "cell_type": "code",
   "execution_count": 3,
   "metadata": {},
   "outputs": [
    {
     "output_type": "stream",
     "name": "stdout",
     "text": [
      "rpaRSrTfbK\nR94otjlZRH\nTRy1tWrbhW\nqpREf7zBZq\nX9s7lrd61c\nyG0hrOv45V\ngTYLPDk0ie\n4rHy9fSdcG\nDVUw77jSDq\nkVb1qdLkES\n"
     ]
    }
   ],
   "source": [
    "def generate_code(code_len=4):\n",
    "    \"\"\"\n",
    "    生成指定长度的验证码\n",
    "    :param code_len：验证码的长度\n",
    "    :return：由大小写语文字母和数字构成的随机验证码\n",
    "    \"\"\"\n",
    "    all_chars = '0123456789abcdefghijklmnopqrstuvwxyzABCDEFGHIJKLMNOPQRSTUVWXYZ'\n",
    "    last_pos = len(all_chars) - 1\n",
    "    code = ''\n",
    "    for _ in range(code_len):\n",
    "        index = random.randint(0, last_pos)\n",
    "        code += all_chars[index]\n",
    "    return code\n",
    "for _ in range(10):\n",
    "    print(generate_code(10))"
   ]
  },
  {
   "cell_type": "code",
   "execution_count": 4,
   "metadata": {},
   "outputs": [
    {
     "output_type": "execute_result",
     "data": {
      "text/plain": [
       "'txt'"
      ]
     },
     "metadata": {},
     "execution_count": 4
    }
   ],
   "source": [
    "def get_suffix(filename, has_dot=False):\n",
    "    \"\"\"\n",
    "    获取文件名的后缀名\n",
    "    :param filename: 文件名\n",
    "    :param hos_dot: 返回的后缀名是否需要结点\n",
    "    :return: 文件的后缀名\n",
    "    \"\"\"\n",
    "    pos = filename.rfind('.')\n",
    "    if 0 < pos < len(filename) - 1:\n",
    "        index = pos if has_dot else pos + 1\n",
    "        return filename[index:]\n",
    "    else:\n",
    "        return ''\n",
    "get_suffix('test.txt')"
   ]
  },
  {
   "cell_type": "code",
   "execution_count": 5,
   "metadata": {},
   "outputs": [
    {
     "output_type": "execute_result",
     "data": {
      "text/plain": [
       "(958, 345)"
      ]
     },
     "metadata": {},
     "execution_count": 5
    }
   ],
   "source": [
    "def max2(x):\n",
    "    m1, m2 = (x[0], x[1]) if x[0] > x[1] else (x[1], x[0])\n",
    "    for index in range(2, len(x)):\n",
    "        if x[index] > m1:\n",
    "            m2 = m1\n",
    "            m1 = x[index]\n",
    "        elif x[index] > m2:\n",
    "            m2 = x[index]\n",
    "    return m1, m2\n",
    "max2([1, 3, 23, 123, 123, 345, 123,958])            "
   ]
  },
  {
   "cell_type": "code",
   "execution_count": 6,
   "metadata": {},
   "outputs": [],
   "source": [
    "def is_leap_year(year):\n",
    "    \"\"\"\n",
    "    判断指定的年份是不是闰年\n",
    "    \n",
    "    :param year: 年份\n",
    "    :return: 闰年返回True，平年返回False\n",
    "    \"\"\"\n",
    "    return year % 4 == 0 and year % 100 != 0 or year % 400 == 0"
   ]
  },
  {
   "cell_type": "code",
   "execution_count": 7,
   "metadata": {},
   "outputs": [
    {
     "output_type": "stream",
     "name": "stdout",
     "text": [
      "333\n365\n1\n61\n"
     ]
    }
   ],
   "source": [
    "def which_day(year, month, day):\n",
    "    \"\"\"\n",
    "    计算传入的日期是这一天的第几天\n",
    "    \n",
    "    :param year: 年\n",
    "    :param month: 月\n",
    "    :param date: 日\n",
    "    :return: 第几天\n",
    "    \"\"\"\n",
    "    days_of_month = [[31, 28, 31, 30, 31, 30, 31, 31, 30, 31, 30, 31],\n",
    "                     [31, 29, 31, 30, 31, 30, 31, 31, 30, 31, 30, 31]\n",
    "                    ][is_leap_year(year)]\n",
    "    total = 0\n",
    "    for index in range(month - 1):\n",
    "        total += days_of_month[index]\n",
    "    return total + day\n",
    "\n",
    "print(which_day(1980, 11, 28))\n",
    "print(which_day(1981, 12, 31))\n",
    "print(which_day(2018, 1, 1))\n",
    "print(which_day(2016, 3, 1))"
   ]
  },
  {
   "cell_type": "code",
   "execution_count": 8,
   "metadata": {},
   "outputs": [
    {
     "output_type": "stream",
     "name": "stdout",
     "text": [
      "1 \t\n1 \t1 \t\n1 \t2 \t1 \t\n1 \t3 \t3 \t1 \t\n1 \t4 \t6 \t4 \t1 \t\n1 \t5 \t10 \t10 \t5 \t1 \t\n1 \t6 \t15 \t20 \t15 \t6 \t1 \t\n1 \t7 \t21 \t35 \t35 \t21 \t7 \t1 \t\n"
     ]
    }
   ],
   "source": [
    "def printTrangle(num=8):\n",
    "    yh = [[]] * num\n",
    "    for row in range(len(yh)):\n",
    "        yh[row] = [None] * (row + 1)\n",
    "        for col in range(len(yh[row])):\n",
    "            if col == 0 or col == row:\n",
    "                yh[row][col] = 1\n",
    "            else:\n",
    "                yh[row][col] = yh[row-1][col] + yh[row-1][col-1]\n",
    "            print yh[row][col], '\\t',\n",
    "        print \n",
    "\n",
    "printTrangle()"
   ]
  },
  {
   "cell_type": "code",
   "execution_count": 9,
   "metadata": {},
   "outputs": [
    {
     "output_type": "execute_result",
     "data": {
      "text/plain": [
       "1606375240"
      ]
     },
     "metadata": {},
     "execution_count": 9
    }
   ],
   "source": [
    "int(time.time())"
   ]
  },
  {
   "cell_type": "code",
   "execution_count": 10,
   "metadata": {},
   "outputs": [],
   "source": [
    "def f1(arg):\n",
    "    print (\"f1\")\n",
    "    r1 = arg()\n",
    "    print (r1)\n",
    "    print r1 + \"f1\""
   ]
  },
  {
   "cell_type": "code",
   "execution_count": 11,
   "metadata": {},
   "outputs": [
    {
     "output_type": "stream",
     "name": "stdout",
     "text": [
      "f1\nf2\nf2r\nf2rf1\nstart\nNone\n"
     ]
    }
   ],
   "source": [
    "@f1\n",
    "def f2(arg=\"\"):\n",
    "    print (\"f2\")\n",
    "    return arg + \"f2r\"\n",
    "print(\"start\")\n",
    "print(f2)"
   ]
  },
  {
   "cell_type": "code",
   "execution_count": 12,
   "metadata": {},
   "outputs": [],
   "source": [
    "def grep(pattern):\n",
    "    print(\"Looking for %s\" % pattern)\n",
    "    while True:\n",
    "        line = yield\n",
    "        if pattern in line:\n",
    "            print(line)"
   ]
  },
  {
   "cell_type": "code",
   "execution_count": 13,
   "metadata": {},
   "outputs": [
    {
     "output_type": "stream",
     "name": "stdout",
     "text": [
      "Looking for python\n"
     ]
    }
   ],
   "source": [
    "g = grep(\"python\")\n",
    "next(g)"
   ]
  },
  {
   "cell_type": "code",
   "execution_count": 14,
   "metadata": {},
   "outputs": [
    {
     "output_type": "stream",
     "name": "stdout",
     "text": [
      "python generators rock!\n"
     ]
    }
   ],
   "source": [
    "g.send(\"Yeah, but no, but yeah, but no\")\n",
    "g.send(\"A series of tubes\")\n",
    "g.send(\"python generators rock!\")"
   ]
  },
  {
   "cell_type": "code",
   "execution_count": 15,
   "metadata": {},
   "outputs": [
    {
     "output_type": "stream",
     "name": "stdout",
     "text": [
      "start run1 method ~\n",
      "start run2 method ~\n",
      "start run3 method ~\n",
      "end run3 method ~\n",
      "end run2 method ~\n",
      "end run1 method ~\n"
     ]
    },
    {
     "output_type": "execute_result",
     "data": {
      "text/plain": [
       "[<Greenlet at 0x107be8ba8: _run>,\n",
       " <Greenlet at 0x107be8aa0: _run>,\n",
       " <Greenlet at 0x107be8998: _run>]"
      ]
     },
     "metadata": {},
     "execution_count": 15
    }
   ],
   "source": [
    "import gevent\n",
    "from gevent import queue\n",
    "\n",
    "def run1():\n",
    "    print('start run1 method ~')\n",
    "    gevent.sleep(2)\n",
    "    print('end run1 method ~')\n",
    "\n",
    "def run2():\n",
    "    print('start run2 method ~')\n",
    "    gevent.sleep(1)\n",
    "    print('end run2 method ~')\n",
    "    \n",
    "def run3():\n",
    "    print('start run3 method ~')\n",
    "    gevent.sleep(0)\n",
    "    print('end run3 method ~')\n",
    "    \n",
    "gevent.joinall([\n",
    "    gevent.spawn(run1),\n",
    "    gevent.spawn(run2),\n",
    "    gevent.spawn(run3)\n",
    "])"
   ]
  },
  {
   "cell_type": "code",
   "execution_count": 16,
   "metadata": {},
   "outputs": [],
   "source": [
    "def worker(n):\n",
    "    while not queue.empty():\n",
    "        task = queue.get()\n",
    "        print \"{} GET {}\".format(n, task)\n",
    "        gevent.sleep(0)\n",
    "    print '{} exit!'.format(n)\n",
    "\n",
    "def boss():\n",
    "    for i in xrange(1, 11):\n",
    "        queue.put_nowait(i)"
   ]
  },
  {
   "cell_type": "code",
   "execution_count": 17,
   "metadata": {},
   "outputs": [
    {
     "output_type": "stream",
     "name": "stdout",
     "text": [
      "tom GET 1\njerry GET 2\nadm GET 3\ntom GET 4\njerry GET 5\nadm GET 6\ntom GET 7\njerry GET 8\nadm GET 9\ntom GET 10\njerry exit!\nadm exit!\ntom exit!\n"
     ]
    },
    {
     "output_type": "execute_result",
     "data": {
      "text/plain": [
       "[<Greenlet at 0x107be8890: _run>,\n",
       " <Greenlet at 0x107be8578: _run>,\n",
       " <Greenlet at 0x107be8cb0: _run>,\n",
       " <Greenlet at 0x107be8788: _run>]"
      ]
     },
     "metadata": {},
     "execution_count": 17
    }
   ],
   "source": [
    "queue = queue.Queue()\n",
    "gevent.joinall([\n",
    "    gevent.spawn(boss),\n",
    "    gevent.spawn(worker, 'tom'),\n",
    "    gevent.spawn(worker, 'jerry'),\n",
    "    gevent.spawn(worker, 'adm'),\n",
    "])"
   ]
  },
  {
   "cell_type": "code",
   "execution_count": 18,
   "metadata": {},
   "outputs": [
    {
     "output_type": "stream",
     "name": "stdout",
     "text": [
      "1\n2\n2\n"
     ]
    }
   ],
   "source": [
    "def run1():\n",
    "    global count\n",
    "    count += 1\n",
    "    print count\n",
    "    \n",
    "def run2():\n",
    "    global count\n",
    "    count += 1\n",
    "    print count\n",
    "    \n",
    "count = 0\n",
    "gevent.joinall([\n",
    "    gevent.spawn(run1),\n",
    "    gevent.spawn(run2)\n",
    "])\n",
    "print count"
   ]
  },
  {
   "cell_type": "code",
   "execution_count": 19,
   "metadata": {},
   "outputs": [
    {
     "output_type": "stream",
     "name": "stdout",
     "text": [
      "3\n1\n"
     ]
    }
   ],
   "source": [
    "def add(x, y):\n",
    "    return x + y\n",
    "\n",
    "def sub(x, y):\n",
    "    return x - y\n",
    "\n",
    "def apply(func, x, y):\n",
    "    return func(x, y)\n",
    "\n",
    "print apply(add, 2, 1)\n",
    "print apply(sub, 2, 1)"
   ]
  },
  {
   "cell_type": "code",
   "execution_count": 20,
   "metadata": {},
   "outputs": [
    {
     "output_type": "stream",
     "name": "stdout",
     "text": [
      "2\n"
     ]
    }
   ],
   "source": [
    "def outer(func):\n",
    "    def inner():\n",
    "        ret = func()\n",
    "        return ret + 1\n",
    "    return inner\n",
    "\n",
    "def foo():\n",
    "    return 1\n",
    "\n",
    "result = outer(foo)\n",
    "print result()"
   ]
  },
  {
   "cell_type": "code",
   "execution_count": 21,
   "metadata": {},
   "outputs": [
    {
     "output_type": "stream",
     "name": "stdout",
     "text": [
      "2\n"
     ]
    }
   ],
   "source": [
    "def outer(func):\n",
    "    def inner(x):\n",
    "        ret = func(x)\n",
    "        return ret + 1\n",
    "    return inner\n",
    "\n",
    "@outer\n",
    "def foo(x):\n",
    "    return x\n",
    "\n",
    "print foo(1)"
   ]
  },
  {
   "cell_type": "code",
   "execution_count": 22,
   "metadata": {},
   "outputs": [
    {
     "output_type": "stream",
     "name": "stdout",
     "text": [
      "5\n"
     ]
    }
   ],
   "source": [
    "def outer(func):\n",
    "    def inner(*args, **kwargs):\n",
    "        ret = func(*args, **kwargs)\n",
    "        return ret + 1\n",
    "    return inner\n",
    "\n",
    "@outer\n",
    "def foo(a, b):\n",
    "    return a + b\n",
    "\n",
    "print foo(1, b=3)"
   ]
  },
  {
   "cell_type": "code",
   "execution_count": 23,
   "metadata": {},
   "outputs": [
    {
     "output_type": "stream",
     "name": "stdout",
     "text": [
      "func2\n<class '__main__.A'>\n类属性\nfunc1\n<__main__.A object at 0x107b95210>\n"
     ]
    }
   ],
   "source": [
    "class A(object):\n",
    "    num = \"类属性\"\n",
    "    \n",
    "    def func1(self):\n",
    "        print 'func1'\n",
    "        print self\n",
    "        \n",
    "    @classmethod\n",
    "    def func2(cls):\n",
    "        print 'func2'\n",
    "        print cls\n",
    "        print cls.num\n",
    "        cls().func1()\n",
    "\n",
    "        \n",
    "A.func2()"
   ]
  },
  {
   "cell_type": "code",
   "execution_count": 24,
   "metadata": {},
   "outputs": [],
   "source": [
    "from time import sleep\n",
    "\n",
    "class Clock(object):\n",
    "    \"\"\"数字时钟\"\"\"\n",
    "    \n",
    "    def __init__(self, hour=0, minute=0, second=0):\n",
    "        self._hour = hour\n",
    "        self._minute = minute\n",
    "        self._second = second\n",
    "    \n",
    "    def run(self):\n",
    "        self._second += 1\n",
    "        if self._second == 60:\n",
    "            self._second = 0\n",
    "            self._minute += 1\n",
    "            if self._minute == 60:\n",
    "                self._minute = 0\n",
    "                self._hour += 1\n",
    "                if self._hour == 24:\n",
    "                    self._hour = 0\n",
    "    def show(self):\n",
    "        return '%02d:%02d:%02d' % (self._hour, self._minute, self._second)"
   ]
  },
  {
   "cell_type": "code",
   "execution_count": 1,
   "metadata": {},
   "outputs": [],
   "source": [
    "# property装饰器\n",
    "class Person(object):\n",
    "    \n",
    "    __slots__ = ('_name', '_age', '_gender')\n",
    "    \n",
    "    def __init__(self, name, age):\n",
    "        self._name = name\n",
    "        self._age = age\n",
    "    \n",
    "    @property\n",
    "    def age(self):\n",
    "        return self._age\n",
    "    \n",
    "    @property\n",
    "    def age(self, age):\n",
    "        self._age = age\n",
    "        \n",
    "    @age.setter\n",
    "    def age(self, age):\n",
    "        self._age = age\n",
    "    \n",
    "    def play(self):\n",
    "        if self._age <= 16:\n",
    "            print '%s正在玩飞行棋.'  % self._name\n",
    "        else:\n",
    "            print '%s正在玩斗地主.' % self._name"
   ]
  },
  {
   "cell_type": "code",
   "execution_count": 2,
   "metadata": {},
   "outputs": [
    {
     "output_type": "stream",
     "name": "stdout",
     "text": [
      "王大锤正在玩飞行棋.\n王大锤正在玩斗地主.\n白元芳正在玩斗地主.\n"
     ]
    }
   ],
   "source": [
    "person = Person('王大锤', 12)\n",
    "person.play()\n",
    "person.age = 22\n",
    "person.play()\n",
    "person._name = '白元芳'\n",
    "person.play()\n",
    "# person.is_gay = True\n",
    "# print person.is_gay"
   ]
  },
  {
   "source": [
    "## 文件读取\n",
    "使用read全部读取，或者使用`for-in`循环逐行或者使用`readlines`方法将文件按行读取到一个容器中"
   ],
   "cell_type": "markdown",
   "metadata": {}
  },
  {
   "cell_type": "code",
   "execution_count": 3,
   "metadata": {},
   "outputs": [
    {
     "output_type": "stream",
     "name": "stdout",
     "text": [
      "# 博乐工作日志\n\n## 2020-11\n\n### 2020-11-16\n\n入职培训，熟悉工作环境，安装开发软件vscode，熟悉Crash Frency，完成新手教程\n\n### 2020-11-17\n"
     ]
    }
   ],
   "source": [
    "import time\n",
    "\n",
    "f = open('foo.txt', 'r')\n",
    "print(f.read())\n",
    "f.close()"
   ]
  },
  {
   "cell_type": "code",
   "execution_count": 4,
   "metadata": {},
   "outputs": [
    {
     "output_type": "stream",
     "name": "stdout",
     "text": [
      "# 博乐工作日志\n\n\n\n## 2020-11\n\n\n\n### 2020-11-16\n\n\n\n入职培训，熟悉工作环境，安装开发软件vscode，熟悉Crash Frency，完成新手教程\n\n\n\n### 2020-11-17\n['# \\xe5\\x8d\\x9a\\xe4\\xb9\\x90\\xe5\\xb7\\xa5\\xe4\\xbd\\x9c\\xe6\\x97\\xa5\\xe5\\xbf\\x97\\n', '\\n', '## 2020-11\\n', '\\n', '### 2020-11-16\\n', '\\n', '\\xe5\\x85\\xa5\\xe8\\x81\\x8c\\xe5\\x9f\\xb9\\xe8\\xae\\xad\\xef\\xbc\\x8c\\xe7\\x86\\x9f\\xe6\\x82\\x89\\xe5\\xb7\\xa5\\xe4\\xbd\\x9c\\xe7\\x8e\\xaf\\xe5\\xa2\\x83\\xef\\xbc\\x8c\\xe5\\xae\\x89\\xe8\\xa3\\x85\\xe5\\xbc\\x80\\xe5\\x8f\\x91\\xe8\\xbd\\xaf\\xe4\\xbb\\xb6vscode\\xef\\xbc\\x8c\\xe7\\x86\\x9f\\xe6\\x82\\x89Crash Frency\\xef\\xbc\\x8c\\xe5\\xae\\x8c\\xe6\\x88\\x90\\xe6\\x96\\xb0\\xe6\\x89\\x8b\\xe6\\x95\\x99\\xe7\\xa8\\x8b\\n', '\\n', '### 2020-11-17']\n"
     ]
    }
   ],
   "source": [
    "with open('foo.txt', mode='r') as f:\n",
    "    for line in f:\n",
    "        print line\n",
    "with open('foo.txt', mode='r') as f:\n",
    "    lines = f.readlines()\n",
    "    print(lines)"
   ]
  },
  {
   "cell_type": "code",
   "execution_count": 5,
   "metadata": {},
   "outputs": [
    {
     "output_type": "stream",
     "name": "stdout",
     "text": [
      "{\"qq\": 957658, \"cars\": [{\"brand\": \"BYD\", \"max_speed\": 180}, {\"brand\": \"Audi\", \"max_speed\": 280}, {\"brand\": \"Benz\", \"max_speed\": 320}], \"age\": 38, \"friends\": [\"\\u738b\\u5927\\u9524\", \"\\u767d\\u5143\\u82b3\"], \"name\": \"\\u9a86\\u660a\"}\n保存数据完成！\n"
     ]
    }
   ],
   "source": [
    "import json\n",
    "import shutil\n",
    "\n",
    "mydict = {\n",
    "    'name': '骆昊',\n",
    "        'age': 38,\n",
    "        'qq': 957658,\n",
    "        'friends': ['王大锤', '白元芳'],\n",
    "        'cars': [\n",
    "            {'brand': 'BYD', 'max_speed': 180},\n",
    "            {'brand': 'Audi', 'max_speed': 280},\n",
    "            {'brand': 'Benz', 'max_speed': 320}\n",
    "        ]\n",
    "}\n",
    "try:\n",
    "    with open('data.json', 'w') as fs:\n",
    "        json.dump(mydict, fs)\n",
    "        print json.dumps(mydict)\n",
    "except IOError as e:\n",
    "    print(e)\n",
    "print('保存数据完成！')"
   ]
  },
  {
   "cell_type": "code",
   "execution_count": 6,
   "metadata": {},
   "outputs": [],
   "source": [
    "from multiprocessing import Process\n",
    "from threading import Thread\n",
    "from os import getpid\n",
    "from random import randint\n",
    "from time import time, sleep"
   ]
  },
  {
   "cell_type": "code",
   "execution_count": 7,
   "metadata": {},
   "outputs": [],
   "source": [
    "def download_task(filename):\n",
    "    print('启动下载进程，进程号[%d]。' % getpid())\n",
    "    print('开始下载%s...' % filename)\n",
    "    time_to_download = randint(5, 10)\n",
    "    sleep(time_to_download)\n",
    "    print('%s下载完成！耗费%d秒' % (filename, time_to_download))"
   ]
  },
  {
   "cell_type": "code",
   "execution_count": 8,
   "metadata": {},
   "outputs": [
    {
     "output_type": "stream",
     "name": "stdout",
     "text": [
      "启动下载进程，进程号[44407]。\n",
      "开始下载Python从入门到住院.pdf...\n",
      "启动下载进程，进程号[44408]。\n",
      "开始下载Peking Hot.avi...\n",
      "Peking Hot.avi下载完成！耗费6秒\n",
      "Python从入门到住院.pdf下载完成！耗费7秒\n",
      "总共耗费了7.03秒\n"
     ]
    }
   ],
   "source": [
    "start = time()\n",
    "p1 = Process(target=download_task, args=('Python从入门到住院.pdf',))\n",
    "p1.start()\n",
    "p2 = Process(target=download_task, args=('Peking Hot.avi',))\n",
    "p2.start()\n",
    "p1.join()\n",
    "p2.join()\n",
    "end = time()\n",
    "print('总共耗费了%.2f秒' % (end-start))"
   ]
  },
  {
   "cell_type": "code",
   "execution_count": 9,
   "metadata": {},
   "outputs": [],
   "source": [
    "def dwonload(filename):\n",
    "    print('开始下载%s...' % filename)\n",
    "    time_to_download = randint(5, 10)\n",
    "    sleep(time_to_download)\n",
    "    print('%s下载完成！耗费%d秒' % (filename, time_to_download))"
   ]
  },
  {
   "cell_type": "code",
   "execution_count": 10,
   "metadata": {},
   "outputs": [
    {
     "output_type": "stream",
     "name": "stdout",
     "text": [
      "1+2+3\n"
     ]
    }
   ],
   "source": [
    "list = ['1', '2', '3']\n",
    "result = '+'.join(list)\n",
    "print result"
   ]
  },
  {
   "cell_type": "code",
   "execution_count": 11,
   "metadata": {},
   "outputs": [
    {
     "output_type": "stream",
     "name": "stdout",
     "text": [
      "<generator object <genexpr> at 0x10dc1fe10>\n0\n1\n2\n3\n4\n5\n6\n7\n8\n9\n"
     ]
    }
   ],
   "source": [
    "gen = (i for i in range(10))\n",
    "print gen\n",
    "for i in gen:\n",
    "    print i"
   ]
  },
  {
   "cell_type": "code",
   "execution_count": 12,
   "metadata": {},
   "outputs": [
    {
     "output_type": "stream",
     "name": "stdout",
     "text": [
      "20\n23\n"
     ]
    }
   ],
   "source": [
    "for i in xrange(100):\n",
    "    if i < 20:\n",
    "        pass\n",
    "    if i == 20:\n",
    "        print i\n",
    "    elif i == 46 or i == 22:\n",
    "        pass\n",
    "    elif i == 23:\n",
    "        print i"
   ]
  },
  {
   "cell_type": "code",
   "execution_count": 13,
   "metadata": {},
   "outputs": [
    {
     "output_type": "stream",
     "name": "stdout",
     "text": [
      "{'four': 4, 'three': 3, 'two': 2, 'one': 1}\n"
     ]
    }
   ],
   "source": [
    "items1 = dict(one=1, two=2, three=3, four=4)\n",
    "print items1"
   ]
  },
  {
   "cell_type": "code",
   "execution_count": 14,
   "metadata": {},
   "outputs": [
    {
     "output_type": "stream",
     "name": "stdout",
     "text": [
      "{'hello': 1}\n"
     ]
    }
   ],
   "source": [
    "items2 = dict(zip(['hello'], [1]))\n",
    "print items2"
   ]
  },
  {
   "cell_type": "code",
   "execution_count": 15,
   "metadata": {},
   "outputs": [],
   "source": [
    "def test(name = None):\n",
    "    if name is None:\n",
    "        name = 'hello'\n",
    "    print name"
   ]
  },
  {
   "cell_type": "code",
   "execution_count": 16,
   "metadata": {},
   "outputs": [
    {
     "output_type": "stream",
     "name": "stdout",
     "text": [
      "hello\n"
     ]
    }
   ],
   "source": [
    "test()"
   ]
  },
  {
   "cell_type": "code",
   "execution_count": 17,
   "metadata": {},
   "outputs": [],
   "source": [
    "for a in ['four', 'three']:\n",
    "    if a not in items1:\n",
    "        print False\n",
    "        pass"
   ]
  },
  {
   "cell_type": "code",
   "execution_count": 18,
   "metadata": {},
   "outputs": [],
   "source": [
    "def str2time(str):\n",
    "    h, m, s = str[:-2].split(':')\n",
    "    h, m, s = int(h), int(m), int(s)\n",
    "    if str[-2:] == 'PM':\n",
    "        h += 12\n",
    "    return h, m, s"
   ]
  },
  {
   "cell_type": "code",
   "execution_count": 19,
   "metadata": {},
   "outputs": [
    {
     "output_type": "stream",
     "name": "stdout",
     "text": [
      "(24, 12, 12)\n"
     ]
    }
   ],
   "source": [
    "print(str2time('12:12:12PM'))"
   ]
  },
  {
   "cell_type": "code",
   "execution_count": 20,
   "metadata": {},
   "outputs": [
    {
     "output_type": "stream",
     "name": "stdout",
     "text": [
      "(0, 1)\n(1, 3)\n(2, 5)\n(3, 7)\n(4, 100)\n[1, 400, 3, 5, 7, 100, 200, 1000, 2000]\n9\n[1, 400, 5, 7, 100, 200, 1000, 2000]\n[400, 5, 7, 100, 200, 1000]\n"
     ]
    }
   ],
   "source": [
    "list1 = [1, 3, 5, 7, 100]\n",
    "for index, elem in enumerate(list1):\n",
    "    print(index, elem)\n",
    "list1.append(200)\n",
    "list1.insert(1, 400)\n",
    "list1 += [1000, 2000]\n",
    "print(list1)\n",
    "print(len(list1))\n",
    "if 3 in list1:\n",
    "    list1.remove(3)\n",
    "if 1234 in list1:\n",
    "    list1.remove(1234)\n",
    "print(list1)\n",
    "list1.pop(0)\n",
    "list1.pop(len(list1) - 1)\n",
    "print(list1)"
   ]
  },
  {
   "cell_type": "code",
   "execution_count": 21,
   "metadata": {},
   "outputs": [
    {
     "output_type": "stream",
     "name": "stdout",
     "text": [
      "[1, 2, 3, 4, 5, 6, 7, 8, 9]\n['A1', 'A2', 'A3', 'A4', 'A5', 'A6', 'A7', 'B1', 'B2', 'B3', 'B4', 'B5', 'B6', 'B7', 'C1', 'C2', 'C3', 'C4', 'C5', 'C6', 'C7', 'D1', 'D2', 'D3', 'D4', 'D5', 'D6', 'D7', 'E1', 'E2', 'E3', 'E4', 'E5', 'E6', 'E7', 'F1', 'F2', 'F3', 'F4', 'F5', 'F6', 'F7']\n9032\n80\n"
     ]
    }
   ],
   "source": [
    "f = [x for x in range(1, 10)]\n",
    "print(f)\n",
    "f = [x + y for x in 'ABCDEF' for y in '1234567']\n",
    "print(f)\n",
    "f = [x**2 for x in range(1, 1000)]\n",
    "print(sys.getsizeof(f))\n",
    "# print(f)\n",
    "f = (x**2 for x in range(1, 1000))\n",
    "print(sys.getsizeof(f))\n",
    "# print(f)\n",
    "# for val in f:\n",
    "    # print(val)"
   ]
  },
  {
   "cell_type": "code",
   "execution_count": 23,
   "metadata": {},
   "outputs": [
    {
     "output_type": "stream",
     "name": "stdout",
     "text": [
      "{'1': 'a', '3': 'c', '2': 'b', '5': 'e', '4': 'd'}\n"
     ]
    }
   ],
   "source": [
    "items = dict(zip(['1', '2', '3', '4'], 'abcd'))\n",
    "def getNum(items):\n",
    "    items.update(zip('5', 'e'))\n",
    "getNum(items)\n",
    "print(items)"
   ]
  },
  {
   "cell_type": "code",
   "execution_count": 24,
   "metadata": {},
   "outputs": [
    {
     "output_type": "execute_result",
     "data": {
      "text/plain": [
       "False"
      ]
     },
     "metadata": {},
     "execution_count": 24
    }
   ],
   "source": [
    "2 in [1, 3]"
   ]
  },
  {
   "cell_type": "code",
   "execution_count": 25,
   "metadata": {},
   "outputs": [
    {
     "output_type": "stream",
     "name": "stdout",
     "text": [
      "[['a', 1], ['b', 2], ['c', 3], ['d', 4]]\n"
     ]
    }
   ],
   "source": [
    "log = [\n",
    "    ['a', 1],\n",
    "    ['b', 2],\n",
    "    ['c', 3]\n",
    "]\n",
    "log.append(['d', 4])\n",
    "print(log)"
   ]
  },
  {
   "cell_type": "code",
   "execution_count": 26,
   "metadata": {},
   "outputs": [
    {
     "output_type": "stream",
     "name": "stdout",
     "text": [
      "10\n"
     ]
    }
   ],
   "source": [
    "if 20 > 0:\n",
    "    a = 10\n",
    "else:\n",
    "    a = 5\n",
    "print(a)"
   ]
  },
  {
   "cell_type": "code",
   "execution_count": 30,
   "metadata": {},
   "outputs": [
    {
     "output_type": "stream",
     "name": "stdout",
     "text": [
      "{'a': [{'test': 1}, {'test': 2}]}\n"
     ]
    }
   ],
   "source": [
    "test = {}\n",
    "test['a'] = [{'test': 1}]\n",
    "test['a'] += [{'test': 2}]\n",
    "print(test)"
   ]
  },
  {
   "cell_type": "code",
   "execution_count": 31,
   "metadata": {},
   "outputs": [
    {
     "output_type": "stream",
     "name": "stdout",
     "text": [
      "[99, 92, 88]\n[12, 25, 34]\n[{'price': 543.22, 'name': 'AAPL', 'shares': 50}, {'price': 115.65, 'name': 'ACME', 'shares': 75}]\n[{'price': 21.09, 'name': 'FB', 'shares': 200}, {'price': 91.1, 'name': 'IBM', 'shares': 100}]\n"
     ]
    }
   ],
   "source": [
    "import heapq\n",
    "\n",
    "list1 = [34, 25, 12, 99, 87, 63, 58, 78, 88, 92]\n",
    "list2 = [\n",
    "    {'name': 'IBM', 'shares': 100, 'price': 91.1},\n",
    "    {'name': 'AAPL', 'shares': 50, 'price': 543.22},\n",
    "    {'name': 'FB', 'shares': 200, 'price': 21.09},\n",
    "    {'name': 'HPQ', 'shares': 35, 'price': 31.75},\n",
    "    {'name': 'YHOO', 'shares': 45, 'price': 16.35},\n",
    "    {'name': 'ACME', 'shares': 75, 'price': 115.65}\n",
    "]\n",
    "print(heapq.nlargest(3, list1))\n",
    "print(heapq.nsmallest(3, list1))\n",
    "print(heapq.nlargest(2, list2, key=lambda x: x['price']))\n",
    "print(heapq.nlargest(2, list2, key=lambda x: x['shares']))"
   ]
  },
  {
   "cell_type": "code",
   "execution_count": 32,
   "metadata": {},
   "outputs": [
    {
     "output_type": "stream",
     "name": "stdout",
     "text": [
      "类方法\n替换类方法\n"
     ]
    }
   ],
   "source": [
    "class ClassA(object):\n",
    "    var1 = '两点水'\n",
    "\n",
    "    def fun1(self):\n",
    "        print('类方法')\n",
    "\n",
    "a = ClassA()\n",
    "a.fun1()\n",
    "\n",
    "def newFun(self):\n",
    "    print('替换类方法')\n",
    "\n",
    "ClassA.fun1 = newFun\n",
    "a.fun1()"
   ]
  },
  {
   "cell_type": "code",
   "execution_count": 36,
   "metadata": {},
   "outputs": [
    {
     "output_type": "stream",
     "name": "stdout",
     "text": [
      "test\n"
     ]
    }
   ],
   "source": [
    "dict = {22: 'test'}\n",
    "str = dict[22]\n",
    "print str"
   ]
  },
  {
   "cell_type": "code",
   "execution_count": null,
   "metadata": {},
   "outputs": [],
   "source": []
  }
 ],
 "metadata": {
  "kernelspec": {
   "display_name": "Python 2",
   "language": "python",
   "name": "python2"
  },
  "language_info": {
   "codemirror_mode": {
    "name": "ipython",
    "version": 2
   },
   "file_extension": ".py",
   "mimetype": "text/x-python",
   "name": "python",
   "nbconvert_exporter": "python",
   "pygments_lexer": "ipython2",
   "version": "2.7.16-final"
  }
 },
 "nbformat": 4,
 "nbformat_minor": 2
}